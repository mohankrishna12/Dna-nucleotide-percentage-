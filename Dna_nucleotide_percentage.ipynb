{
  "nbformat": 4,
  "nbformat_minor": 0,
  "metadata": {
    "colab": {
      "provenance": [],
      "authorship_tag": "ABX9TyNxQVeGfQljEX8DUxRcO9eF",
      "include_colab_link": true
    },
    "kernelspec": {
      "name": "python3",
      "display_name": "Python 3"
    },
    "language_info": {
      "name": "python"
    }
  },
  "cells": [
    {
      "cell_type": "markdown",
      "metadata": {
        "id": "view-in-github",
        "colab_type": "text"
      },
      "source": [
        "<a href=\"https://colab.research.google.com/github/mohankrishna12/Dna-nucleotide-percentage-/blob/main/Dna_nucleotide_percentage.ipynb\" target=\"_parent\"><img src=\"https://colab.research.google.com/assets/colab-badge.svg\" alt=\"Open In Colab\"/></a>"
      ]
    },
    {
      "cell_type": "code",
      "execution_count": 1,
      "metadata": {
        "id": "mSRd0pl6lMS2",
        "outputId": "d6f23126-b40f-4d29-ce4f-9130fed4b1ee",
        "colab": {
          "base_uri": "https://localhost:8080/"
        }
      },
      "outputs": [
        {
          "output_type": "stream",
          "name": "stdout",
          "text": [
            "Nucleotide counts and percentages in the DNA sequence:\n",
            "A: 5 (25.00%)\n",
            "T: 5 (25.00%)\n",
            "G: 5 (25.00%)\n",
            "C: 5 (25.00%)\n"
          ]
        }
      ],
      "source": [
        "\n",
        "# DNA Nucleotide Counting and Percentage Calculation\n",
        "\n",
        "# Example DNA sequence (you can modify this)\n",
        "dna_sequence = \"ATGCGTACCTAGGCTAATCG\"\n",
        "\n",
        "# Dictionary to store counts of each nucleotide\n",
        "nucleotide_count = {\"A\": 0, \"T\": 0, \"G\": 0, \"C\": 0}\n",
        "\n",
        "# Counting nucleotides\n",
        "for nucleotide in dna_sequence:\n",
        "    if nucleotide in nucleotide_count:\n",
        "        nucleotide_count[nucleotide] += 1\n",
        "\n",
        "# Calculate total length of the sequence\n",
        "total_length = len(dna_sequence)\n",
        "\n",
        "# Display counts and percentages of each nucleotide\n",
        "print(\"Nucleotide counts and percentages in the DNA sequence:\")\n",
        "for nucleotide, count in nucleotide_count.items():\n",
        "    percentage = (count / total_length) * 100\n",
        "    print(f\"{nucleotide}: {count} ({percentage:.2f}%)\")"
      ]
    }
  ]
}